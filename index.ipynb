{
 "cells": [
  {
   "cell_type": "code",
   "execution_count": 2,
   "metadata": {
    "slideshow": {
     "slide_type": "skip"
    }
   },
   "outputs": [
    {
     "name": "stdout",
     "output_type": "stream",
     "text": [
      "[NbConvertApp] Converting notebook gdh2020.ipynb to slides\n",
      "[NbConvertApp] Writing 296261 bytes to gdh2020.slides.html\n"
     ]
    }
   ],
   "source": [
    "!jupyter-nbconvert --to slides gdh2020.ipynb  && open http://localhost:8001/gdh2020.slides.html"
   ]
  },
  {
   "cell_type": "markdown",
   "metadata": {
    "slideshow": {
     "slide_type": "slide"
    }
   },
   "source": [
    "# Visualizing Poetic Meter in South Asian Languages\n",
    "\n",
    "## A. Sean Pue\n",
    "### pue@msu.edu @seanpue (Michigan State University)\n",
    "## Ahmad Atta\n",
    "### Govt. Zamindar Post Graduate College\n",
    "## Rajiv Ranjan\n",
    "### Michigan State University"
   ]
  },
  {
   "cell_type": "markdown",
   "metadata": {
    "slideshow": {
     "slide_type": "slide"
    }
   },
   "source": [
    "##  Overview\n",
    "\n",
    "\n",
    "* Explaining poetic meter in the modern languages of South Asia is tough even for experienced poets.\n",
    "* Less familiar readers or listeners have difficulty learning them.\n",
    "* The trouble: *traditional prosodic systems do not align well with the phonological features of modern South Asian languages*. \n",
    "* Modern scholars have offered alternative ways to think of meter.\n",
    "* We augment that work by presenting software to visualize poetic meter using directed graphs \n",
    "* In multiple languages and scripts, it make poetic knowledge accessible to readers, scholars, and poets."
   ]
  },
  {
   "cell_type": "markdown",
   "metadata": {
    "slideshow": {
     "slide_type": "slide"
    }
   },
   "source": [
    "## Background\n"
   ]
  },
  {
   "cell_type": "markdown",
   "metadata": {
    "slideshow": {
     "slide_type": "slide"
    }
   },
   "source": [
    "### In General\n",
    "\n",
    "* Poetic prosody in South Asian languages is ***durational*** (based on metrical unit length) rather than ***accentual*** (based on stress)"
   ]
  },
  {
   "cell_type": "markdown",
   "metadata": {
    "slideshow": {
     "slide_type": "fragment"
    }
   },
   "source": [
    "* Existing tools for graphical exploration of poems, which are mostly designed for English and confine their “prosodic domains” to stress, are insufficient for the task"
   ]
  },
  {
   "cell_type": "markdown",
   "metadata": {
    "slideshow": {
     "slide_type": "fragment"
    }
   },
   "source": [
    "* In South Asia, there are two competing theories of prosody, one derived from Arabic (*‘uruz* عروض) and one from Sanskrit (*chhanda* छंद)"
   ]
  },
  {
   "cell_type": "markdown",
   "metadata": {
    "slideshow": {
     "slide_type": "slide"
    }
   },
   "source": [
    "## Theories of Prosody in South Asia\n",
    "![South Asia Map](./images/southasia.png)"
   ]
  },
  {
   "cell_type": "markdown",
   "metadata": {
    "slideshow": {
     "slide_type": "slide"
    }
   },
   "source": [
    "### Perso-Arabic System\n",
    "* The Arabic system traces its origins to the *revelation* of the eighth century Arab prosodist al-Khalil Ibn Ahmad of Basra.\n",
    "    * Came to South Asia via Persian/Farsi, a previous lingua franca.\n",
    "    * Basic unit is orthography, the written Arabic letter. \n",
    "    * Precise for classical Arabic, but combinatorially explosive in South Asian languages (units form across words).\n",
    "    "
   ]
  },
  {
   "cell_type": "markdown",
   "metadata": {
    "slideshow": {
     "slide_type": "slide"
    }
   },
   "source": [
    "### Sanskrit System\n",
    "* Defines long or short units based on its abugida (segmental writing system), e.g. शाहरुख़ ख़ान-> शा,ह,रु,ख़,ख़ा,न\n",
    "* Precise for Sanskrit, but short vowel endings are often dropped in modern languages.   "
   ]
  },
  {
   "cell_type": "markdown",
   "metadata": {
    "slideshow": {
     "slide_type": "slide"
    }
   },
   "source": [
    "### Problems for Modern Languages\n",
    "* Despite their aura of authenticity, both systems— especially in their nomenclatures—do not align well with modern languages and appear overly complex."
   ]
  },
  {
   "cell_type": "markdown",
   "metadata": {
    "slideshow": {
     "slide_type": "slide"
    }
   },
   "source": [
    "## Modern Prosody\n",
    "\n",
    "Modern prosodists have attempted to make prosody more accessible by referring to patterns of long and short metrical units (Pybus 1924, Pritchett and Khaliq 1987, Faruqi 1968, Tabassum 1983, Nagasaki and Kim 2012). These are often represented using macrons, breves, or other symbols."
   ]
  },
  {
   "cell_type": "markdown",
   "metadata": {
    "slideshow": {
     "slide_type": "slide"
    }
   },
   "source": [
    "## Representing Poetic Meter as a Directed Graph"
   ]
  },
  {
   "cell_type": "markdown",
   "metadata": {
    "slideshow": {
     "slide_type": "slide"
    }
   },
   "source": [
    "* Representing poetic meter as a walk (sequence of vertices/nodes and edges) through a directed graph (digraph) offers a significant advancement over previous metrical representations.\n",
    "* Allows South Asian language poetic texts to be represented visually in their poetic meter without the complications of traditional prosody"
   ]
  },
  {
   "cell_type": "markdown",
   "metadata": {
    "slideshow": {
     "slide_type": "slide"
    }
   },
   "source": [
    "### Graphical Model\n",
    "* Assume start and end nodes\n",
    "* Nodes represent short and long metrical units"
   ]
  },
  {
   "cell_type": "markdown",
   "metadata": {
    "slideshow": {
     "slide_type": "slide"
    }
   },
   "source": [
    "### Visual Model\n",
    "\n",
    "![Overview Visualization](./images/Overview.png)\n",
    "\n"
   ]
  },
  {
   "cell_type": "markdown",
   "metadata": {
    "slideshow": {
     "slide_type": "fragment"
    }
   },
   "source": [
    "* Long metrical units as rectangles"
   ]
  },
  {
   "cell_type": "markdown",
   "metadata": {
    "slideshow": {
     "slide_type": "fragment"
    }
   },
   "source": [
    "* Short metrical units as circles"
   ]
  },
  {
   "cell_type": "markdown",
   "metadata": {
    "slideshow": {
     "slide_type": "fragment"
    }
   },
   "source": [
    "* Metrical feet as clusters (when applicable)"
   ]
  },
  {
   "cell_type": "markdown",
   "metadata": {
    "slideshow": {
     "slide_type": "fragment"
    }
   },
   "source": [
    "* Uncounted short metrical units as dashed circles (when applicable)"
   ]
  },
  {
   "cell_type": "markdown",
   "metadata": {
    "slideshow": {
     "slide_type": "slide"
    }
   },
   "source": [
    "### Advantages\n",
    "\n",
    "* Resolves issues of metrical flexibility and complexity that, in traditional prosody, lead to excessive categorization (to accomodate Arabic/Sanskrit metrical categories)"
   ]
  },
  {
   "cell_type": "markdown",
   "metadata": {
    "slideshow": {
     "slide_type": "fragment"
    }
   },
   "source": [
    "* Visualizes the patterns of durational sound that produce meaning for poets and their listeners"
   ]
  },
  {
   "cell_type": "markdown",
   "metadata": {
    "slideshow": {
     "slide_type": "slide"
    }
   },
   "source": [
    "## Graphical Representation of Poetic Data"
   ]
  },
  {
   "cell_type": "markdown",
   "metadata": {
    "slideshow": {
     "slide_type": "fragment"
    }
   },
   "source": [
    "* A Python and Javascript module (urdubiometer) converts poetic texts into poetic data"
   ]
  },
  {
   "cell_type": "markdown",
   "metadata": {
    "slideshow": {
     "slide_type": "fragment"
    }
   },
   "source": [
    "* Original text is transliterated, capturing orthography and pronunciation, both of which are necessary for the metrical analysis of South Asian language poetries.\n",
    "    * Utilizes graphtransliterator, a rules-based approach to transliteration (https://graphtransliterator.readthedocs.org)"
   ]
  },
  {
   "cell_type": "markdown",
   "metadata": {
    "slideshow": {
     "slide_type": "fragment"
    }
   },
   "source": [
    "* Tokens are categorized and assigned to metrical units, long or short, and labeled based on what specific metrical rule is applied. "
   ]
  },
  {
   "cell_type": "code",
   "execution_count": 82,
   "metadata": {
    "slideshow": {
     "slide_type": "fragment"
    }
   },
   "outputs": [
    {
     "data": {
      "text/plain": [
       "ScanResult(scan='=-==-=-===', matches=[UnitMatch(type='=', rule_found='l_bcv', orig_tokens=[' ', 's', 'aa']), UnitMatch(type='-', rule_found='s_cv<b>', orig_tokens=['r', 'ii']), UnitMatch(type='=', rule_found='l_bcsc', orig_tokens=[' ', 'm', 'a', 's']), UnitMatch(type='=', rule_found='l_cv', orig_tokens=['t', 'ii']), UnitMatch(type='-', rule_found='s_bcs', orig_tokens=[' ', 'sh', 'a']), UnitMatch(type='=', rule_found='l_cv', orig_tokens=['r', 'aa']), UnitMatch(type='-', rule_found='s_c', orig_tokens=['b']), UnitMatch(type='=', rule_found='l_bcv', orig_tokens=[' ', 'k', 'ii']), UnitMatch(type='=', rule_found='l_bcv', orig_tokens=[' ', 's', 'ii']), UnitMatch(type='=', rule_found='l_bcv', orig_tokens=[' ', 'h', 'ai'])], meter_key=14)"
      ]
     },
     "execution_count": 82,
     "metadata": {},
     "output_type": "execute_result"
    }
   ],
   "source": [
    "import urdubiometer\n",
    "urdubiometer.GhazalScanner().scan(\"saarii mastii sharaab kii sii hai\")[0]\n",
    "# using = for long and - for short"
   ]
  },
  {
   "cell_type": "markdown",
   "metadata": {
    "slideshow": {
     "slide_type": "slide"
    }
   },
   "source": [
    "## Implementation\n",
    "Graph layout is done using GraphViz library (Gansner and North 2000), including graphviz (Python) and supplemented Dagre-D3 (Javascript)"
   ]
  },
  {
   "cell_type": "markdown",
   "metadata": {
    "slideshow": {
     "slide_type": "slide"
    }
   },
   "source": [
    "## Discussion"
   ]
  },
  {
   "cell_type": "markdown",
   "metadata": {
    "slideshow": {
     "slide_type": "slide"
    }
   },
   "source": [
    "### Advancements \n",
    "\n",
    "* Works across the multiple scripts of South Asian reading and listening publics."
   ]
  },
  {
   "cell_type": "markdown",
   "metadata": {
    "slideshow": {
     "slide_type": "fragment"
    }
   },
   "source": [
    "* Advances earlier methods of visualizing meter by affording new sorts of interaction, particularly in web-based environments"
   ]
  },
  {
   "cell_type": "markdown",
   "metadata": {
    "slideshow": {
     "slide_type": "slide"
    }
   },
   "source": [
    "#### For Scholars\n",
    "* Directed graphs allow an elegant means to visualize metrical complexity.\n",
    "* All of the possible meters of a particular poet can be compared to those of another. \n",
    "* The flow through a network also opens new sorts of metrics for comparative analysis."
   ]
  },
  {
   "cell_type": "markdown",
   "metadata": {
    "slideshow": {
     "slide_type": "slide"
    }
   },
   "source": [
    "#### For Listeners\n",
    "* A walk through a directed graph can be colored in time with a particular audio or visual recording that has been marked up for phoneme timings as well as metrical units, allowing new sorts of insights that are not easily available in text alone.|"
   ]
  },
  {
   "cell_type": "markdown",
   "metadata": {
    "slideshow": {
     "slide_type": "fragment"
    }
   },
   "source": [
    "* Interactive versions of directed graphs can have instructive qualities for those with various levels of knowledge or intuition about meter"
   ]
  },
  {
   "cell_type": "markdown",
   "metadata": {
    "slideshow": {
     "slide_type": "fragment"
    }
   },
   "source": [
    "* Listeners can learn the rules of prosodic systems by clicking on nodes that represent poetic data."
   ]
  },
  {
   "cell_type": "markdown",
   "metadata": {
    "slideshow": {
     "slide_type": "slide"
    }
   },
   "source": [
    "#### For Poets\n",
    "\n",
    "* This method offers a visual means for composing verse."
   ]
  },
  {
   "cell_type": "markdown",
   "metadata": {
    "slideshow": {
     "slide_type": "slide"
    }
   },
   "source": [
    "## Conclusion\n",
    "\n",
    "While based in Urdu and Hindi, the methodologies described can be easily adapted and applied to a large number of South Asian and other languages to provide renewed access to poetry, conceived as data, in the digital age.\n",
    "\n",
    "## Acknowledgements\n",
    "\n",
    "\n"
   ]
  },
  {
   "cell_type": "code",
   "execution_count": null,
   "metadata": {},
   "outputs": [],
   "source": []
  }
 ],
 "metadata": {
  "celltoolbar": "Slideshow",
  "kernelspec": {
   "display_name": "Python 3",
   "language": "python",
   "name": "python3"
  },
  "language_info": {
   "codemirror_mode": {
    "name": "ipython",
    "version": 3
   },
   "file_extension": ".py",
   "mimetype": "text/x-python",
   "name": "python",
   "nbconvert_exporter": "python",
   "pygments_lexer": "ipython3",
   "version": "3.7.5"
  }
 },
 "nbformat": 4,
 "nbformat_minor": 2
}
